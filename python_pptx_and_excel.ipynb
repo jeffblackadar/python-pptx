{
  "nbformat": 4,
  "nbformat_minor": 0,
  "metadata": {
    "colab": {
      "name": "python-pptx_and_excel.ipynb",
      "provenance": []
    },
    "kernelspec": {
      "name": "python3",
      "display_name": "Python 3"
    }
  },
  "cells": [
    {
      "cell_type": "code",
      "metadata": {
        "id": "WUWXfI52OH-P",
        "outputId": "68b53b05-8d91-4ba5-950f-da19f46b4405",
        "colab": {
          "base_uri": "https://localhost:8080/"
        }
      },
      "source": [
        "!pip install python-pptx"
      ],
      "execution_count": null,
      "outputs": [
        {
          "output_type": "stream",
          "text": [
            "Collecting python-pptx\n",
            "\u001b[?25l  Downloading https://files.pythonhosted.org/packages/bf/86/eb979f7b0333ec769041aae36df8b9f1bd8bea5bbad44620663890dce561/python-pptx-0.6.18.tar.gz (8.9MB)\n",
            "\u001b[K     |████████████████████████████████| 8.9MB 7.4MB/s \n",
            "\u001b[?25hRequirement already satisfied: lxml>=3.1.0 in /usr/local/lib/python3.6/dist-packages (from python-pptx) (4.2.6)\n",
            "Requirement already satisfied: Pillow>=3.3.2 in /usr/local/lib/python3.6/dist-packages (from python-pptx) (7.0.0)\n",
            "Collecting XlsxWriter>=0.5.7\n",
            "\u001b[?25l  Downloading https://files.pythonhosted.org/packages/6b/41/bf1aae04932d1eaffee1fc5f8b38ca47bbbf07d765129539bc4bcce1ce0c/XlsxWriter-1.3.7-py2.py3-none-any.whl (144kB)\n",
            "\u001b[K     |████████████████████████████████| 153kB 51.8MB/s \n",
            "\u001b[?25hBuilding wheels for collected packages: python-pptx\n",
            "  Building wheel for python-pptx (setup.py) ... \u001b[?25l\u001b[?25hdone\n",
            "  Created wheel for python-pptx: filename=python_pptx-0.6.18-cp36-none-any.whl size=275707 sha256=1ad2cbb1335876762f73805c22bf97ebaff1a28d440f131ddc46c0c9b2521896\n",
            "  Stored in directory: /root/.cache/pip/wheels/1f/1f/2c/29acca422b420a0b5210bd2cd7e9669804520d602d2462f20b\n",
            "Successfully built python-pptx\n",
            "Installing collected packages: XlsxWriter, python-pptx\n",
            "Successfully installed XlsxWriter-1.3.7 python-pptx-0.6.18\n"
          ],
          "name": "stdout"
        }
      ]
    },
    {
      "cell_type": "code",
      "metadata": {
        "id": "bbXWIzN0bztL"
      },
      "source": [
        "from pptx import Presentation  \n",
        "from pptx.util import Inches, Pt\n",
        "import pandas as pd\n",
        "\n",
        "class Ppt_presentation:\n",
        "\n",
        "    # class attribute\n",
        "    # Creating presentation object \n",
        "    ppt_presentation = Presentation() \n",
        "\n",
        "    # instance attribute\n",
        "    def __init__(self):\n",
        "        self.ppt_presentation = Presentation()\n",
        "    \n",
        "    def get_ppt_presentation(self):\n",
        "        return self.ppt_presentation\n",
        "    \n",
        "    # Adds one slide with text on it\n",
        "    def add_slide_text(self, title_text, body_text):\n",
        "        # Adding a blank slide in out ppt \n",
        "        slide = self.ppt_presentation.slides.add_slide(self.ppt_presentation.slide_layouts[1])\n",
        "        slide.shapes.title.text = title_text\n",
        "        slide.shapes.title.text_frame.paragraphs[0].font.size = Pt(32)\n",
        "        # Adjusting the width !   \n",
        "        x, y, cx, cy = Inches(.5), Inches(1.5), Inches(8.5), Inches(.5)\n",
        "        shapes = slide.shapes\n",
        "        body_shape = shapes.placeholders[1]\n",
        "        tf = body_shape.text_frame\n",
        "        tf.text = body_text\n",
        "\n",
        "    # Adds one slide with a table on it.  The content of the table is a Pandas dataframe\n",
        "    def add_slide_table_df(self, df, title_text, col_widths):\n",
        "        # Adding a blank slide in out ppt \n",
        "        slide = self.ppt_presentation.slides.add_slide(self.ppt_presentation.slide_layouts[5])\n",
        "        slide.shapes.title.text = title_text\n",
        "        slide.shapes.title.text_frame.paragraphs[0].font.size = Pt(32)\n",
        "        # Adjusting the width !   \n",
        "        x, y, cx, cy = Inches(.5), Inches(1.5), Inches(8.5), Inches(.5)  \n",
        "        df_rows = df.shape[0]\n",
        "        df_cols = df.shape[1]\n",
        "        \n",
        "        # Adding tables \n",
        "        table = slide.shapes.add_table(df_rows+1, df_cols, x, y, cx, cy).table\n",
        "        ccol = table.columns\n",
        "        \n",
        "        \n",
        "        for c in range(0,df_cols):\n",
        "            table.cell(0, c).text = df.columns.values[c]\n",
        "            ccol[c].width = Inches(col_widths[c])\n",
        " \n",
        "        for r in range(0,df_rows):\n",
        "            for c in range(0,df_cols):\n",
        "                table.cell(r+1, c).text = str(df.iat[r,c])\n",
        "                for p in range(0,len(table.cell(r+1, c).text_frame.paragraphs)):\n",
        "                    table.cell(r+1, c).text_frame.paragraphs[p].font.size = Pt(12)\n",
        "\n",
        "    # Adds a series of slides with tables.  The content of the tables is a Pandas dataframe.\n",
        "    # This calls add_slide_table_df to add each slide.\n",
        "    def add_slides_table_df(self, df, rows, title_text, col_widths):\n",
        "        df_rows = df.shape[0]  \n",
        "        if(rows > df_rows):\n",
        "            self.add_slide_table_df(df, title_text, col_widths)\n",
        "            return\n",
        "        else:\n",
        "            for df_rows_cn in range(0, df_rows, rows):\n",
        "                print(df_rows_cn)\n",
        "                rows_df_end = df_rows_cn + rows\n",
        "                if rows_df_end > df_rows:\n",
        "                    rows_df_end = df_rows\n",
        "                rows_df = df.iloc[df_rows_cn:rows_df_end,:]\n",
        "                self.add_slide_table_df(rows_df, title_text, col_widths)  \n",
        "            return\n",
        "    \n",
        "    def save(self,filename):\n",
        "        self.ppt_presentation.save(filename)\n",
        "\n"
      ],
      "execution_count": null,
      "outputs": []
    },
    {
      "cell_type": "code",
      "metadata": {
        "id": "_8sicNdFN2wn",
        "outputId": "2db4979a-f1e7-411d-8cfe-3b56b279bb98",
        "colab": {
          "base_uri": "https://localhost:8080/"
        }
      },
      "source": [
        "# import Presentation class \n",
        "# from pptx library \n",
        "from pptx import Presentation  \n",
        "from pptx.util import Inches, Pt\n",
        "import pandas as pd\n",
        "\n",
        "ppres = Ppt_presentation()\n",
        "ppres.add_slide_text(\"Salt Tolerance of Trees\",\"November, 2020\")\n",
        "\n",
        "spreadsheet_path = \"/content/trees.xls\"\n",
        "\n",
        "trees_df = pd.read_excel(open(spreadsheet_path , 'rb'),  header=0) \n",
        "#We have some missing values. These need to be fixed, but for purposes today, replace with -\n",
        "trees_df = trees_df.fillna(\"-\")\n",
        "\n",
        "cols_df = trees_df.iloc[0:132,[1,3,16]]\n",
        "\n",
        "\n",
        "#Add slides with tables of 8 rows from the dataframe\n",
        "col_widths = [1.5,3.5,3.5]\n",
        "ppres.add_slides_table_df(cols_df, 15, \"Trees: Common name, Latin Name, Salt Tolerance.\",col_widths)\n",
        "\n",
        "# Group results in dataframe by unique value\n",
        "# Sort values for second column\n",
        "salt_tolerance_df = trees_df.sort_values(['SaltToleranceEn','NameBotanical'])\n",
        "salt_tolerance_df = salt_tolerance_df.groupby(['SaltToleranceEn'])['NameBotanical'].apply(', '.join).reset_index()\n",
        "\n",
        "#Add slides with tables of 2 rows from the dataframe\n",
        "col_widths = [1.5,7]\n",
        "ppres.add_slides_table_df(salt_tolerance_df, 2, \"Salt Tolerance\",col_widths)\n",
        "\n",
        "ppres.save(\"presentation.pptx\")\n",
        "print(\"done\")"
      ],
      "execution_count": null,
      "outputs": [
        {
          "output_type": "stream",
          "text": [
            "l)\n",
            "0\n",
            "15\n",
            "30\n",
            "45\n",
            "60\n",
            "75\n",
            "90\n",
            "105\n",
            "120\n",
            "0\n",
            "2\n",
            "4\n",
            "done\n"
          ],
          "name": "stdout"
        }
      ]
    }
  ]
}